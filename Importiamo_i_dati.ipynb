{
 "cells": [
  {
   "cell_type": "code",
   "execution_count": null,
   "metadata": {},
   "outputs": [],
   "source": [
    "import pandas as pd\n",
    "import numpy as np\n",
    "from datetime import datetime,timedelta\n",
    "from sklearn.metrics import mean_squared_error\n",
    "from scipy.optimize import curve_fit\n",
    "from scipy.optimize import fsolve\n",
    "import matplotlib.pyplot as plt\n",
    "import plotly.express as px\n",
    "import seaborn as sns\n",
    "%matplotlib inline\n",
    "pd.options.display.max_columns=999"
   ]
  },
  {
   "cell_type": "code",
   "execution_count": null,
   "metadata": {},
   "outputs": [],
   "source": [
    "path = 'Files/' \n",
    "età = pd.read_csv(path+'distribuzione_regionale_età.csv')\n",
    "letalità = pd.read_csv(path+'letalità_Covid19.csv')\n",
    "posti_ti = pd.read_csv(path+'Posti_letto_terapia_intensiva.csv')\n",
    "regioni = pd.read_json('https://raw.githubusercontent.com/pcm-dpc/COVID-19/master/dati-json/dpc-covid19-ita-regioni.json')"
   ]
  },
  {
   "cell_type": "code",
   "execution_count": null,
   "metadata": {},
   "outputs": [],
   "source": [
    "for index,row in letalità.iterrows():\n",
    "    età.loc[(età['Età']>= row['min'])&(età['Età']<= row['max']),'fascia_età'] = row['fascia_età']\n",
    "    età.loc[(età['Età']>= row['min'])&(età['Età']<= row['max']),'letalità'] = row['letalità']\n",
    "    \n",
    "età = età.groupby(['Territorio','fascia_età','letalità'], as_index = False)['Valore'].sum()\n",
    "età['percentuale_età'] = età.groupby(['Territorio'])['Valore'].apply(lambda x: x / float(x.sum()))"
   ]
  },
  {
   "cell_type": "code",
   "execution_count": null,
   "metadata": {},
   "outputs": [],
   "source": [
    "regione_casi = età.merge(regioni, left_on='Territorio', right_on='denominazione_regione', how= 'left')\n",
    "regione_casi = regione_casi.merge(posti_ti, on='Territorio', how='left')\n",
    "# calcoliamo la saturazione dei posti letto\n",
    "regione_casi['TI_saturazione'] = regione_casi['terapia_intensiva'] / regione_casi['Posti letto TI']\n",
    "# filtriamo le colonne che ci interessano\n",
    "regione_casi = regione_casi[['Territorio','data','fascia_età','letalità','percentuale_età','TI_saturazione','totale_casi','deceduti','tamponi']]"
   ]
  },
  {
   "cell_type": "code",
   "execution_count": null,
   "metadata": {},
   "outputs": [],
   "source": [
    "regione_casi.loc[regione_casi['Territorio']== 'Emilia Romagna'].head(10)"
   ]
  }
 ],
 "metadata": {
  "kernelspec": {
   "display_name": "Python 3",
   "language": "python",
   "name": "python3"
  },
  "language_info": {
   "codemirror_mode": {
    "name": "ipython",
    "version": 3
   },
   "file_extension": ".py",
   "mimetype": "text/x-python",
   "name": "python",
   "nbconvert_exporter": "python",
   "pygments_lexer": "ipython3",
   "version": "3.7.4"
  }
 },
 "nbformat": 4,
 "nbformat_minor": 2
}
